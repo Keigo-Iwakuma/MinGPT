{
 "cells": [
  {
   "cell_type": "code",
   "execution_count": 1,
   "metadata": {},
   "outputs": [],
   "source": [
    "# set up logging\n",
    "import logging\n",
    "logging.basicConfig(\n",
    "    format=\"%(asctime)s - %(levelname)s - %(name)s -    %(message)s\",\n",
    "    datefmt=\"%m/%d/%Y %H:%M:%S\",\n",
    "    level=logging.INFO,\n",
    ")"
   ]
  },
  {
   "cell_type": "code",
   "execution_count": 2,
   "metadata": {},
   "outputs": [],
   "source": [
    "# make deterministic\n",
    "from mingpt.utils import set_seed\n",
    "set_seed(42)"
   ]
  },
  {
   "cell_type": "code",
   "execution_count": 3,
   "metadata": {},
   "outputs": [],
   "source": [
    "import numpy as np\n",
    "import torch\n",
    "import torch.nn as nn\n",
    "from torch.nn import functional as F"
   ]
  },
  {
   "cell_type": "code",
   "execution_count": 4,
   "metadata": {},
   "outputs": [],
   "source": [
    "import math\n",
    "from torch.utils.data import Dataset\n",
    "\n",
    "\n",
    "class CharDataset(Dataset):\n",
    "\n",
    "    def __init__(self, data, block_size):\n",
    "        chars = sorted(list(set(data)))\n",
    "        data_size, vocab_size = len(data), len(chars)\n",
    "        print(f\"data has {data_size:d} characters, {vocab_size:d} unique.\")\n",
    "\n",
    "        self.stoi = { ch: i for i, ch in enumerate(chars) }\n",
    "        self.itos = { i: ch for i, ch in enumerate(chars) }\n",
    "        self.block_size = block_size\n",
    "        self.vocab_size = vocab_size\n",
    "        self.data = data\n",
    "    \n",
    "    def __len__(self):\n",
    "        return len(self.data) - self.block_size\n",
    "    \n",
    "    def __getitem__(self, idx):\n",
    "        # grab a chunk of (block_size + 1) characters from the data\n",
    "        chunk = self.data[idx:idx+self.block_size+1]\n",
    "        # encode every character to an integer\n",
    "        dix = [self.stoi[s] for s in chunk]\n",
    "        \"\"\"\n",
    "        arrange data and targets so that the first i elements of x\n",
    "        will be asked to predict the i-th element of y. Notice that\n",
    "        the eventual language model will actually make block_size\n",
    "        individual predictions at the same time based on this data,\n",
    "        so we are being clever and amortizing the cost of the forward\n",
    "        pass of the network. So for example if block_size is 4, then\n",
    "        we could e.g. sample a chunk of text \"hello\", the integers in\n",
    "        x will correspond to \"hell\" and in y will be \"ello\". This will\n",
    "        then actually \"multitask\" 4 separate examples at the same time\n",
    "        in the language model:\n",
    "        - given just \"h\", please predict \"e\" as next\n",
    "        - given \"he\" please predict \"l\" next\n",
    "        - given \"hel\" predict \"l\" next\n",
    "        - given \"hell\" predict \"o\" next\n",
    "        \n",
    "        In addition, because the DataLoader will create batches of examples,\n",
    "        every forward/backward pass during traning will simultaneously train\n",
    "        a LOT of predictions, amortizing a lot of computation. In particular,\n",
    "        for a batched input of integers X (B, T) where B is batch size and\n",
    "        T is block_size and Y (B, T), the network will during training be\n",
    "        simultaneously training to make B*T predictions, all at once! Of course,\n",
    "        at test time we can paralellize across batch B, but unlike during training\n",
    "        we cannot parallelize across the time dimension T - we have to run\n",
    "        a forward pass of the network to recover the next single character of the \n",
    "        sequence along each batch dimension, and repeatedly always feed in a next\n",
    "        character to get the next one.\n",
    "        \n",
    "        So yes there is a big asymmetry between train/test time of autoregressive\n",
    "        models. During training we can go B*T at a time with every forward pass,\n",
    "        but during test time we can only go B at a time, T times, with T forward \n",
    "        passes.\n",
    "        \"\"\"\n",
    "        x = torch.tensor(dix[:-1], dtype=torch.long)\n",
    "        y = torch.tensor(dix[1:], dtype=torch.long)\n",
    "        return x, y"
   ]
  },
  {
   "cell_type": "code",
   "execution_count": 5,
   "metadata": {},
   "outputs": [],
   "source": [
    "block_size = 128  # spacial extent of the model for its context"
   ]
  },
  {
   "cell_type": "code",
   "execution_count": 6,
   "metadata": {},
   "outputs": [
    {
     "name": "stdout",
     "output_type": "stream",
     "text": [
      "data has 1115394 characters, 65 unique.\n"
     ]
    }
   ],
   "source": [
    "text = open(\"input.txt\", \"r\").read()  # don't worry we won't run out of file handles\n",
    "train_dataset = CharDataset(text, block_size)  # one line of poem is roughly 50 characters"
   ]
  },
  {
   "cell_type": "code",
   "execution_count": 7,
   "metadata": {},
   "outputs": [
    {
     "name": "stderr",
     "output_type": "stream",
     "text": [
      "02/05/2022 08:48:32 - INFO - mingpt.model -    number of parameters: 12742656\n"
     ]
    }
   ],
   "source": [
    "from mingpt.model import GPT, GPTConfig\n",
    "\n",
    "\n",
    "mconf = GPTConfig(\n",
    "    train_dataset.vocab_size,\n",
    "    train_dataset.block_size,\n",
    "    n_layer=4,\n",
    "    n_head=8,\n",
    "    n_embd=512,\n",
    ")\n",
    "model = GPT(mconf)"
   ]
  },
  {
   "cell_type": "code",
   "execution_count": 8,
   "metadata": {},
   "outputs": [
    {
     "name": "stderr",
     "output_type": "stream",
     "text": [
      "epoch 1 iter 2178: train loss 0.67980, lr 3.000169e-04: 100%|██████████| 2179/2179 [12:02<00:00,  3.02it/s]\n",
      "epoch 2 iter 2178: train loss 0.38349, lr 6.000000e-05: 100%|██████████| 2179/2179 [12:03<00:00,  3.01it/s]\n"
     ]
    }
   ],
   "source": [
    "from mingpt.trainer import Trainer, TrainerConfig\n",
    "\n",
    "# initialize a trainer instance and kick off training\n",
    "tconf = TrainerConfig(\n",
    "    max_epochs=2,\n",
    "    batch_size=512,\n",
    "    learning_rate=6e-4,\n",
    "    lr_decay=True,\n",
    "    warmup_tokens=512*20,\n",
    "    final_tokens=2*len(train_dataset)*block_size,\n",
    "    num_workers=4,\n",
    ")\n",
    "trainer = Trainer(model, train_dataset, None, tconf)\n",
    "trainer.train()"
   ]
  },
  {
   "cell_type": "code",
   "execution_count": 9,
   "metadata": {},
   "outputs": [
    {
     "name": "stdout",
     "output_type": "stream",
     "text": [
      "O God, O God! that e'er this thine!\n",
      "\n",
      "QUEEN MARGARET:\n",
      "I call thee not, king; let's fight with grief and be\n",
      "That thou dost contrary any more.\n",
      "\n",
      "CLARENCE:\n",
      "O, no, he loves me, and he holds me dear:\n",
      "Go you to him from me.\n",
      "\n",
      "First Murderer:\n",
      "Back, and what thy head is great.\n",
      "Strive County Paris! why do you wring your hands?\n",
      "\n",
      "VALERIA:\n",
      "Not out of doors!\n",
      "\n",
      "VOLUMNIA:\n",
      "Should we be silent and not speak, and speak apace.\n",
      "\n",
      "CORIOLANUS:\n",
      "I dare be sworn\n",
      "To give me the present army. Answer\n",
      "me like some words in Padua short to the garden,\n",
      "That makes his opening warm scars to see him:\n",
      "He was done so by, and so fair a show!\n",
      "\n",
      "KING RICHARD III:\n",
      "He am glad on here of this: God defend me  he rest.\n",
      "\n",
      "QUEEN ELIZABETH:\n",
      "How fares the prince, as he is just.\n",
      "\n",
      "KING RICHARD III:\n",
      "So, to the dire and heights of all at\n",
      "With mine eyes to save her brother's life.\n",
      "Master, the Volsces have struck deadly blown,\n",
      "The grass whereon the beggar's traitor\n",
      "Which in their indifferent ruin.\n",
      "\n",
      "CORIOLANUS:\n",
      "To moment.\n",
      "\n",
      "AUFIDIUS:\n",
      "I understand their fury:\n",
      "O, sir, it is too hot far gone with grief to go wins.\n",
      "\n",
      "VIRGILIA:\n",
      "\n",
      "SICINIUS:\n",
      "Go, get you home, this gentleman told me he hath\n",
      "Banish'd the number of his fair demands\n",
      "Shall make a fire for Edward me to help me to your son.\n",
      "\n",
      "KING RICHARD II:\n",
      "If I revolt out death doth of this again.\n",
      "\n",
      "BUCKINGHAM:\n",
      "Nor none here, my lord.\n",
      "\n",
      "KING RICHARD III:\n",
      "Bear her my true loving to yourself?\n",
      "\n",
      "QUEEN ELIZABETH:\n",
      "Thanks, noble Clarence; words, at his hands who\n",
      "Are come to thee, and he am a-woman's tongue\n",
      "With such verything, as thou seest the marriage of\n",
      "the king's fair daughter Claribel to the King of Tunis.\n",
      "\n",
      "SICINIUS:\n",
      "What then?\n",
      "'He that is good with our love comes.\n",
      "\n",
      "MENENIUS:\n",
      "Let them have well proceeded, Caius Marcius\n",
      "Associated with Aufidius, rages\n",
      "Upon our territories with their speed.\n",
      "\n",
      "SICINIUS:\n",
      "'Tis well.\n",
      "\n",
      "First Senator:\n",
      "Away.\n",
      "\n",
      "MENENIUS:\n",
      "A noble word:\n",
      "Then we shall have no hat, which else\n",
      "By thinking on no more.\n",
      "\n",
      "Second Servingman:\n",
      "O, she is it well, I fear   you stay with him.\n",
      "\n",
      "Third Servingman:\n",
      "What, w\n"
     ]
    }
   ],
   "source": [
    "# alright, let's sample some character-level Shaespeare\n",
    "from mingpt.utils import sample\n",
    "\n",
    "context = \"O God, O God!\"\n",
    "x = torch.tensor([train_dataset.stoi[s] for s in context], dtype=torch.long)[None, ...].to(trainer.device)\n",
    "y = sample(model, x, 2000, temperature=1.0, sample=True, top_k=10)[0]\n",
    "completion = ''.join([train_dataset.itos[int(i)] for i in y])\n",
    "print(completion)"
   ]
  },
  {
   "cell_type": "code",
   "execution_count": null,
   "metadata": {},
   "outputs": [],
   "source": []
  }
 ],
 "metadata": {
  "interpreter": {
   "hash": "d4d1e4263499bec80672ea0156c357c1ee493ec2b1c70f0acce89fc37c4a6abe"
  },
  "kernelspec": {
   "display_name": "Python 3.8.12 ('base')",
   "language": "python",
   "name": "python3"
  },
  "language_info": {
   "codemirror_mode": {
    "name": "ipython",
    "version": 3
   },
   "file_extension": ".py",
   "mimetype": "text/x-python",
   "name": "python",
   "nbconvert_exporter": "python",
   "pygments_lexer": "ipython3",
   "version": "3.8.12"
  },
  "orig_nbformat": 4
 },
 "nbformat": 4,
 "nbformat_minor": 2
}
